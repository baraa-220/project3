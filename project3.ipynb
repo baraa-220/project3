{
 "cells": [
  {
   "cell_type": "markdown",
   "id": "dbc7768f",
   "metadata": {},
   "source": [
    "project3\n",
    "\n",
    "\n",
    "Group number 6 Baraa Nidal Ghannoum Tom Mantel Mubarik Omar ALi Abdi"
   ]
  }
 ],
 "metadata": {
  "language_info": {
   "name": "python"
  }
 },
 "nbformat": 4,
 "nbformat_minor": 5
}

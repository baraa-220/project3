{
 "cells": [
  {
   "cell_type": "markdown",
   "id": "dbc7768f",
   "metadata": {},
   "source": [
    "project3\n",
    "\n",
    "\n",
    "Group number 6 Baraa Nidal Ghannoum Tom Mantel Mubarik Omar ALi Abdi"
   ]
  },
  {
   "cell_type": "markdown",
   "id": "2d3aff44",
   "metadata": {},
   "source": [
    "Abstract:\n",
    "\n"
   ]
  },
  {
   "cell_type": "markdown",
   "id": "939afbc9",
   "metadata": {},
   "source": [
    "Introduction:\n",
    "\n",
    "Having the ability to predict the foreseeable future in industries related to finance, engineering, and buisness can become a crucial (element) to posess. A mathematical tecnhiqe like  "
   ]
  },
  {
   "cell_type": "markdown",
   "id": "87a42e5b",
   "metadata": {},
   "source": [
    "hei "
   ]
  },
  {
   "cell_type": "markdown",
   "id": "8bf10279",
   "metadata": {},
   "source": [
    "Conclusion:"
   ]
  },
  {
   "cell_type": "markdown",
   "id": "9859e784",
   "metadata": {},
   "source": [
    "References: "
   ]
  }
 ],
 "metadata": {
  "language_info": {
   "name": "python"
  }
 },
 "nbformat": 4,
 "nbformat_minor": 5
}

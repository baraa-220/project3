{
 "cells": [
  {
   "cell_type": "markdown",
   "id": "dbc7768f",
   "metadata": {},
   "source": [
    "project3\n",
    "\n",
    "\n",
    "Group number 6 Baraa Nidal Ghannoum Tom Mantel Mubarik Omar ALi Abdi"
   ]
  },
  {
   "cell_type": "markdown",
   "id": "8a3f0b6d",
   "metadata": {},
   "source": [
    "Abstract: "
   ]
  },
  {
   "cell_type": "markdown",
   "id": "52d20934",
   "metadata": {},
   "source": [
    "intro:"
   ]
  },
  {
   "cell_type": "markdown",
   "id": "2db924fa",
   "metadata": {},
   "source": [
    "topic1:"
   ]
  },
  {
   "cell_type": "markdown",
   "id": "a6b21156",
   "metadata": {},
   "source": [
    "topic2: "
   ]
  },
  {
   "cell_type": "markdown",
   "id": "64157b71",
   "metadata": {},
   "source": [
    "conclu:"
   ]
  },
  {
   "cell_type": "markdown",
   "id": "f91522bf",
   "metadata": {},
   "source": [
    "Self Reflection:"
   ]
  },
  {
   "cell_type": "markdown",
   "id": "a56e6df5",
   "metadata": {},
   "source": [
    "Referance:"
   ]
  }
 ],
 "metadata": {
  "language_info": {
   "name": "python"
  }
 },
 "nbformat": 4,
 "nbformat_minor": 5
}

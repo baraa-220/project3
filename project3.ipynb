{
 "cells": [
  {
   "cell_type": "markdown",
   "id": "dbc7768f",
   "metadata": {},
   "source": [
    "project3\n",
    "\n",
    "\n",
    "Group number 6 Baraa Nidal Ghannoum Tom Mantel Mubarik Omar ALi Abdi"
   ]
  },
  {
   "cell_type": "markdown",
   "id": "9ad0712e",
   "metadata": {
    "slideshow": {
     "slide_type": "slide"
    },
    "vscode": {
     "languageId": "plaintext"
    }
   },
   "source": [
    "Task 0"
   ]
  },
  {
   "cell_type": "code",
   "execution_count": null,
   "id": "cf2d667f",
   "metadata": {},
   "outputs": [],
   "source": [
    "#Import definitions for the simulation and further plottings\n",
    "import matplotlib as np\n",
    "import matplotlib.pyplot as plt"
   ]
  },
  {
   "cell_type": "code",
   "execution_count": null,
   "id": "99a7feb3",
   "metadata": {},
   "outputs": [],
   "source": [
    "DNA_Coord = \"dna_coords.txt\" # File containing DNA coordinates\n",
    "units_inside = \"nm\"  # Units for distances inside the file\n",
    "margin = 0.2  # Margin for plotting\n"
   ]
  },
  {
   "cell_type": "code",
   "execution_count": null,
   "id": "29f68396",
   "metadata": {},
   "outputs": [],
   "source": [
    "'''now we load the txt file containing the coordinates of the DNA segments'''"
   ]
  },
  {
   "cell_type": "code",
   "execution_count": null,
   "id": "eb8f6144",
   "metadata": {},
   "outputs": [],
   "source": [
    "xyz = np.loadtxt(DNA_Coord), usecols=(0,1,2)  # Load coordinates from file\n",
    "\n",
    "'''Now we need to handle the units.'''\n",
    "\n",
    "if units_inside.lower() in [\"a\", \"ang\", \"angstrom\", \"Å\"]:\n",
    "    xyz_nm = xyz / 10.0\n",
    "elif units_inside.lower() == \"nm\":\n",
    "    xyz_nm = xyz\n",
    "else:\n",
    "    raise ValueError(\"Unknown length units. Use 'A' or 'nm'.\")"
   ]
  },
  {
   "cell_type": "code",
   "execution_count": null,
   "id": "c233e30d",
   "metadata": {},
   "outputs": [],
   "source": [
    "mins = xyz_nm.min(axis=0)\n",
    "maxs = xyz_nm.max(axis=0)\n",
    "\n",
    "origin = mins - margin\n",
    "L = (maxs - mins) + 2*margin\n",
    "Vbox = np.prod(L)\n",
    "\n",
    "print(f\"Origin (nm): {origin[0]:.4f}, {origin[1]:.4f}, {origin[2]:.4f}\")\n",
    "print(f\"Box dims (nm): Lx={L[0]:.4f}, Ly={L[1]:.4f}, Lz={L[2]:.4f}\")\n",
    "print(f\"Box volume (nm^3): {Vbox:.4f}\")"
   ]
  },
  {
   "cell_type": "code",
   "execution_count": null,
   "id": "cd6171a2",
   "metadata": {},
   "outputs": [],
   "source": [
    "'''As DNA; you'd wish multiple samples to conclude your research, \n",
    "and to gain a broader aspect of data sampling. \n",
    "For this we've chosen to work with 25 samples.\n",
    "We will be using temperature in the form of kelvin (K) as our variable.\n",
    "aswell as implementing the boltsman constant (k) in our calculations.'''"
   ]
  }
 ],
 "metadata": {
  "kernelspec": {
   "display_name": "base",
   "language": "python",
   "name": "python3"
  },
  "language_info": {
   "codemirror_mode": {
    "name": "ipython",
    "version": 3
   },
   "file_extension": ".py",
   "mimetype": "text/x-python",
   "name": "python",
   "nbconvert_exporter": "python",
   "pygments_lexer": "ipython3",
   "version": "3.13.5"
  }
 },
 "nbformat": 4,
 "nbformat_minor": 5
}

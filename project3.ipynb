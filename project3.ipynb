{
 "cells": [
  {
   "cell_type": "markdown",
   "id": "dbc7768f",
   "metadata": {},
   "source": [
    "project3\n",
    "\n",
    "\n",
    "Group number 6 Baraa Nidal Ghannoum Tom Mantel Mubarik Omar ALi Abdi"
   ]
  },
  {
   "cell_type": "markdown",
   "id": "2d3aff44",
   "metadata": {},
   "source": [
    "Abstract:\n",
    "\n"
   ]
  },
  {
   "cell_type": "markdown",
   "id": "939afbc9",
   "metadata": {},
   "source": [
    "Introduction:\n",
    "\n",
    "Having the ability to predict the foreseeable future in industries related to finance, engineering, and buisness can become a crucial (element) to posess. A mathematical tecnhiqe like  "
   ]
  },
  {
   "cell_type": "markdown",
   "id": "87a42e5b",
   "metadata": {},
   "source": [
    "hei "
   ]
  },
  {
   "cell_type": "markdown",
   "id": "8bf10279",
   "metadata": {},
   "source": [
    "Conclusion:"
   ]
  },
  {
   "cell_type": "markdown",
   "id": "9859e784",
   "metadata": {},
   "source": [
    "References: "
   ]
  }
 ],
 "metadata": {
  "kernelspec": {
   "display_name": "base",
   "language": "python",
   "name": "python3"
  },
  "language_info": {
   "codemirror_mode": {
    "name": "ipython",
    "version": 3
   },
   "file_extension": ".py",
   "mimetype": "text/x-python",
   "name": "python",
   "nbconvert_exporter": "python",
   "pygments_lexer": "ipython3",
   "version": "3.13.5"
  }
 },
 "nbformat": 4,
 "nbformat_minor": 5
}
